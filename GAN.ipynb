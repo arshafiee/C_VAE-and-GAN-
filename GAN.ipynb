{
 "cells": [
  {
   "cell_type": "code",
   "execution_count": null,
   "metadata": {
    "colab": {},
    "colab_type": "code",
    "id": "lgRt2OXjBY1z"
   },
   "outputs": [],
   "source": [
    "import numpy as np\n",
    "import torch\n",
    "import torch.nn as nn\n",
    "import torch.nn.functional as F\n",
    "import torch.optim as optim\n",
    "from torchvision import datasets, transforms\n",
    "from torch.autograd import Variable"
   ]
  },
  {
   "cell_type": "code",
   "execution_count": null,
   "metadata": {
    "colab": {},
    "colab_type": "code",
    "id": "TAnXtWX7BmGO"
   },
   "outputs": [],
   "source": [
    "# MNIST Dataset\n",
    "\n",
    "transform = transforms.Compose([\n",
    "    transforms.ToTensor(),\n",
    "    transforms.Normalize(mean=(0.5, 0.5, 0.5), std=(0.5, 0.5, 0.5))])\n",
    "\n",
    "original_train_dataset = datasets.MNIST(root='./mnist_data/', train=True,\n",
    "                                        transform=transform, download=True)\n",
    "original_test_dataset = datasets.MNIST(root='./mnist_data/', train=False,\n",
    "                                       transform=transform, download=True)"
   ]
  },
  {
   "cell_type": "code",
   "execution_count": null,
   "metadata": {
    "colab": {},
    "colab_type": "code",
    "id": "dXAEL63eNIyT"
   },
   "outputs": [],
   "source": [
    "# Device configuration\n",
    "device = torch.device('cuda' if torch.cuda.is_available() else 'cpu')\n",
    "\n",
    "# Set Hyper-parameters (change None)\n",
    "BATCH_SIZE = 100\n",
    "LEARNING_RATE_D = 0.0002\n",
    "LEARNING_RATE_G = 0.0002\n",
    "N_EPOCH = 250"
   ]
  },
  {
   "cell_type": "code",
   "execution_count": null,
   "metadata": {
    "colab": {},
    "colab_type": "code",
    "id": "ovXeGU8jMM2A"
   },
   "outputs": [],
   "source": [
    "# Define Train loader\n",
    "train_tensors = original_train_dataset.data.float() / 255\n",
    "test_tensors = original_test_dataset.data.float() / 255\n",
    "\n",
    "train_dataset = torch.utils.data.TensorDataset(train_tensors, original_train_dataset.targets)\n",
    "test_dataset = torch.utils.data.TensorDataset(test_tensors, original_test_dataset.targets)\n",
    "\n",
    "train_loader = torch.utils.data.DataLoader(dataset=train_dataset, batch_size=BATCH_SIZE, shuffle=True)\n",
    "test_loader = torch.utils.data.DataLoader(dataset=test_dataset, batch_size=BATCH_SIZE, shuffle=False)"
   ]
  },
  {
   "cell_type": "code",
   "execution_count": null,
   "metadata": {
    "colab": {},
    "colab_type": "code",
    "id": "5ySxdempQ6BE"
   },
   "outputs": [],
   "source": [
    "class Discriminator(nn.Module):\n",
    "    def __init__(self, dis_input_dim):\n",
    "        super(Discriminator, self).__init__()\n",
    "        self.fc1 = nn.Linear(dis_input_dim, 1024)\n",
    "        self.fc2 = nn.Linear(self.fc1.out_features, self.fc1.out_features//2)\n",
    "        self.fc3 = nn.Linear(self.fc2.out_features, self.fc2.out_features//2)\n",
    "        self.fc4 = nn.Linear(self.fc3.out_features, 1)\n",
    "\n",
    "    def forward(self, img):\n",
    "        x = F.leaky_relu(self.fc1(img), 0.2)\n",
    "        x = F.dropout(x, 0.3)\n",
    "        x = F.leaky_relu(self.fc2(x), 0.2)\n",
    "        x = F.dropout(x, 0.3)\n",
    "        x = F.leaky_relu(self.fc3(x), 0.2)\n",
    "        x = F.dropout(x, 0.3)\n",
    "        return torch.sigmoid(self.fc4(x))\n",
    "\n",
    "class Generator(nn.Module):\n",
    "    def __init__(self, gen_input_dim, gen_output_dim):\n",
    "        super(Generator, self).__init__()\n",
    "        self.fc1 = nn.Linear(gen_input_dim, 256)\n",
    "        self.fc2 = nn.Linear(self.fc1.out_features, self.fc1.out_features*2)\n",
    "        self.fc3 = nn.Linear(self.fc2.out_features, self.fc2.out_features*2)\n",
    "        self.fc4 = nn.Linear(self.fc3.out_features, gen_output_dim)\n",
    "\n",
    "    def forward(self, z):\n",
    "        x = F.leaky_relu(self.fc1(z), 0.2)\n",
    "        x = F.leaky_relu(self.fc2(x), 0.2)\n",
    "        x = F.leaky_relu(self.fc3(x), 0.2)\n",
    "        return torch.tanh(self.fc4(x))\n",
    "\n",
    "RV_dim = 100\n",
    "pic_dim = original_train_dataset.data.shape[1] * original_train_dataset.data.shape[2] \n",
    "\n",
    "D = Discriminator(pic_dim)\n",
    "G = Generator(gen_input_dim=RV_dim, gen_output_dim=pic_dim)"
   ]
  },
  {
   "cell_type": "code",
   "execution_count": null,
   "metadata": {
    "colab": {
     "base_uri": "https://localhost:8080/",
     "height": 221
    },
    "colab_type": "code",
    "id": "IWwaav1EUcqv",
    "outputId": "16ca2550-6491-44c9-abac-09e42f38bba7"
   },
   "outputs": [
    {
     "name": "stdout",
     "output_type": "stream",
     "text": [
      "Discriminator(\n",
      "  (fc1): Linear(in_features=784, out_features=1024, bias=True)\n",
      "  (fc2): Linear(in_features=1024, out_features=512, bias=True)\n",
      "  (fc3): Linear(in_features=512, out_features=256, bias=True)\n",
      "  (fc4): Linear(in_features=256, out_features=1, bias=True)\n",
      ")\n",
      "Generator(\n",
      "  (fc1): Linear(in_features=100, out_features=256, bias=True)\n",
      "  (fc2): Linear(in_features=256, out_features=512, bias=True)\n",
      "  (fc3): Linear(in_features=512, out_features=1024, bias=True)\n",
      "  (fc4): Linear(in_features=1024, out_features=784, bias=True)\n",
      ")\n"
     ]
    }
   ],
   "source": [
    "print(D)\n",
    "print(G)"
   ]
  },
  {
   "cell_type": "code",
   "execution_count": null,
   "metadata": {
    "colab": {},
    "colab_type": "code",
    "id": "fTIzG-MXXFAV"
   },
   "outputs": [],
   "source": [
    "# Device setting\n",
    "D = D.to(device)\n",
    "G = G.to(device)"
   ]
  },
  {
   "cell_type": "code",
   "execution_count": null,
   "metadata": {
    "colab": {},
    "colab_type": "code",
    "id": "hoYNxPpCXURZ"
   },
   "outputs": [],
   "source": [
    "opt_D = optim.Adam(D.parameters(), lr = LEARNING_RATE_D)\n",
    "opt_G = optim.Adam(G.parameters(), lr = LEARNING_RATE_G)\n",
    "# Loss function (use \".to(device)\" to use gpu(cuda))\n",
    "loss_function = nn.BCELoss().to(device) "
   ]
  },
  {
   "cell_type": "code",
   "execution_count": null,
   "metadata": {
    "colab": {},
    "colab_type": "code",
    "id": "Hy7Ifv2n7AyW"
   },
   "outputs": [],
   "source": [
    "import matplotlib.pyplot as plt\n",
    "%matplotlib inline\n",
    "plt.rcParams['figure.figsize'] = (10, 3) # set default size of plots"
   ]
  },
  {
   "cell_type": "code",
   "execution_count": null,
   "metadata": {
    "colab": {},
    "colab_type": "code",
    "id": "FRqRhyQN6zIh"
   },
   "outputs": [],
   "source": [
    "for epoch in range(N_EPOCH):\n",
    "    for i, (img, label) in enumerate(train_loader):\n",
    "\n",
    "        D.zero_grad()\n",
    "\n",
    "        real_img = img.view(-1, pic_dim)\n",
    "        real_img = Variable(real_img.to(device))\n",
    "\n",
    "        real_labels = torch.ones(img.shape[0], 1)\n",
    "        real_labels = Variable(real_labels.to(device))\n",
    "\n",
    "        D_output = D(real_img)\n",
    "        D_real_loss = loss_function(D_output, real_labels)\n",
    "        D_real_score = D_output\n",
    "        \n",
    "        z = torch.randn(img.shape[0], RV_dim).to(device)\n",
    "        z = Variable(z)\n",
    "        fake_img = G(z) \n",
    "\n",
    "        fake_labels = torch.zeros(img.shape[0], 1).to(device)\n",
    "        fake_labels = Variable(fake_labels)\n",
    "\n",
    "        D_output = D(fake_img)\n",
    "        D_fake_loss = loss_function(D_output, fake_labels)\n",
    "        D_fake_score = D_output\n",
    "\n",
    "        # opt_D.zero_grad()\n",
    "        \n",
    "        loss_d = D_real_loss + D_fake_loss\n",
    "        \n",
    "        loss_d.backward()\n",
    "        opt_D.step()\n",
    "\n",
    "        G.zero_grad()\n",
    "\n",
    "        z = torch.randn(img.shape[0], RV_dim).to(device)\n",
    "        z = Variable(z)\n",
    "        fake_img = G(z)\n",
    "\n",
    "        Y = torch.ones(img.shape[0], 1).to(device)\n",
    "        Y = Variable(Y)\n",
    "\n",
    "        D_output = D(fake_img)\n",
    "        loss_g = loss_function(D_output, Y)\n",
    "\n",
    "        # opt_G.zero_grad()\n",
    "        \n",
    "        loss_g.backward()\n",
    "        opt_G.step()\n",
    "\n",
    "    \n",
    "    print(\"epoch: {} \\t last batch loss D: {} \\t last batch loss G: {}\".format(epoch + 1, \n",
    "                                                                               loss_d.item(), \n",
    "                                                                               loss_g.item()))\n",
    "\n",
    "    for i in range(3):\n",
    "        for j in range(10):\n",
    "            plt.subplot(3, 10, i * 10 + j + 1)\n",
    "            plt.imshow(fake_img[i * 10 + j].detach().cpu().view(28, 28).numpy())\n",
    "    plt.show()\n",
    "\n"
   ]
  }
 ],
 "metadata": {
  "accelerator": "GPU",
  "colab": {
   "collapsed_sections": [],
   "name": "GAN.ipynb",
   "provenance": []
  },
  "kernelspec": {
   "display_name": "Python 3",
   "language": "python",
   "name": "python3"
  },
  "language_info": {
   "codemirror_mode": {
    "name": "ipython",
    "version": 3
   },
   "file_extension": ".py",
   "mimetype": "text/x-python",
   "name": "python",
   "nbconvert_exporter": "python",
   "pygments_lexer": "ipython3",
   "version": "3.7.3"
  }
 },
 "nbformat": 4,
 "nbformat_minor": 1
}
